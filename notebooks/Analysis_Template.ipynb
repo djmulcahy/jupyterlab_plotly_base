{
 "cells": [
  {
   "cell_type": "markdown",
   "id": "66bc66d6-bdc0-4bd4-93d9-3ffa54e743ab",
   "metadata": {},
   "source": [
    "## Anlysis Template"
   ]
  },
  {
   "cell_type": "code",
   "execution_count": 1,
   "id": "f42c6f2d-8e2e-47fb-8223-916b049050be",
   "metadata": {},
   "outputs": [],
   "source": [
    "import pandas as pd\n",
    "import plotly \n",
    "import plotly as px\n",
    "\n",
    "data_path = '../data/'"
   ]
  }
 ],
 "metadata": {
  "kernelspec": {
   "display_name": "Python 3 (ipykernel)",
   "language": "python",
   "name": "python3"
  },
  "language_info": {
   "codemirror_mode": {
    "name": "ipython",
    "version": 3
   },
   "file_extension": ".py",
   "mimetype": "text/x-python",
   "name": "python",
   "nbconvert_exporter": "python",
   "pygments_lexer": "ipython3",
   "version": "3.9.6"
  }
 },
 "nbformat": 4,
 "nbformat_minor": 5
}
